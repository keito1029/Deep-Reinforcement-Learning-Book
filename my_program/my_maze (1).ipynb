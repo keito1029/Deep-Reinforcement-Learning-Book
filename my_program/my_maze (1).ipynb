{
 "cells": [
  {
   "cell_type": "markdown",
   "metadata": {},
   "source": [
    "## 2.2 迷路内をランダムに探索させる"
   ]
  },
  {
   "cell_type": "code",
   "execution_count": 1,
   "metadata": {},
   "outputs": [],
   "source": [
    "# 使用するパッケージの宣言\n",
    "import numpy as np\n",
    "import matplotlib.pyplot as plt\n",
    "%matplotlib inline\n"
   ]
  },
  {
   "cell_type": "code",
   "execution_count": 2,
   "metadata": {},
   "outputs": [
    {
     "data": {
      "image/png": "[encoded data removed]",
      "text/plain": [
       "<Figure size 360x360 with 1 Axes>"
      ]
     },
     "metadata": {
      "needs_background": "light"
     },
     "output_type": "display_data"
    }
   ],
   "source": [
    "# 初期位置での迷路の様子\n",
    "\n",
    "# 図を描く大きさと、図の変数名を宣言\n",
    "fig = plt.figure(figsize=(5, 5))\n",
    "ax = plt.gca()\n",
    "\n",
    "# 赤い壁を描く\n",
    "plt.plot([1, 1], [0, 1], color='red', linewidth=2)\n",
    "plt.plot([1, 2], [2, 2], color='red', linewidth=2)\n",
    "plt.plot([2, 2], [2, 1], color='red', linewidth=2)\n",
    "plt.plot([2, 3], [1, 1], color='red', linewidth=2)\n",
    "plt.plot([3, 3], [3, 4], color='red', linewidth=2)\n",
    "plt.plot([1, 2], [3, 3], color='red', linewidth=2)\n",
    "plt.plot([3, 3], [1, 2], color='red', linewidth=2)\n",
    "\n",
    "# 状態を示す文字S0～S12を描く\n",
    "plt.text(0.5, 3.5, 'S0', size=14, ha='center')\n",
    "plt.text(1.5, 3.5, 'S1', size=14, ha='center')\n",
    "plt.text(2.5, 3.5, 'S2', size=14, ha='center')\n",
    "plt.text(3.5, 3.5, 'S3', size=14, ha='center')\n",
    "plt.text(0.5, 2.5, 'S4', size=14, ha='center')\n",
    "plt.text(1.5, 2.5, 'S5', size=14, ha='center')\n",
    "plt.text(2.5, 2.5, 'S6', size=14, ha='center')\n",
    "plt.text(3.5, 2.5, 'S7', size=14, ha='center')\n",
    "plt.text(0.5, 1.5, 'S8', size=14, ha='center')\n",
    "plt.text(1.5, 1.5, 'S9', size=14, ha='center')\n",
    "plt.text(2.5, 1.5, 'S10', size=14, ha='center')\n",
    "plt.text(3.5, 1.5, 'S11', size=14, ha='center')\n",
    "plt.text(0.5, 0.5, 'S12', size=14, ha='center')\n",
    "plt.text(1.5, 0.5, 'S13', size=14, ha='center')\n",
    "plt.text(2.5, 0.5, 'S14', size=14, ha='center')\n",
    "plt.text(3.5, 0.5, 'S15', size=14, ha='center')\n",
    "plt.text(0.5, 3.3, 'START', ha='center')\n",
    "plt.text(3.5, 0.3, 'GOAL', ha='center')\n",
    "\n",
    "# 描画範囲の設定と目盛りを消す設定\n",
    "ax.set_xlim(0, 4)\n",
    "ax.set_ylim(0, 4)\n",
    "plt.tick_params(axis='both', which='both', bottom='off', top='off',\n",
    "                labelbottom='off', right='off', left='off', labelleft='off')\n",
    "\n",
    "# 現在地S0に緑丸を描画する\n",
    "line, = ax.plot([0.5], [3.5], marker=\"o\", color='b', markersize=60)"
   ]
  },
  {
   "cell_type": "code",
   "execution_count": null,
   "metadata": {},
   "outputs": [],
   "source": [
    "# 初期の方策を決定するパラメータtheta_0を設定\n",
    "\n",
    "# 行は状態0～7、列は移動方向で↑、→、↓、←、右上、左上、右下、左下を表す\n",
    "theta_0 = np.array([[np.nan, 1, 1, np.nan, np.nan, np.nan, 1, np.nan],  # s0\n",
    "                    [np.nan, 1, np.nan, 1, np.nan, np.nan, 1, 1],  # s1\n",
    "                    [np.nan, np.nan, 1, 1, np.nan ,np.nan, 1, 1],  # s2\n",
    "                    [np.nan, np.nan, 1, np.nan, np.nan, np.nan, np.nan, 1],  # s3\n",
    "                    [1, 1, 1, np.nan, 1, np.nan, 1, np.nan],  # s4\n",
    "                    [np.nan, 1, np.nan, 1, 1, 1, 1, 1],  # s5\n",
    "                    [1, 1, 1, 1, 1, 1, np.nan, np.nan],  # s6\n",
    "                    [1, np.nan, 1, 1, np.nan, 1, np.nan, 1],# s7\n",
    "                    [1, 1, 1, np.nan, 1, np.nan, 1, np.nan],  # s8\n",
    "                    [np.nan, np.nan, 1, 1, np.nan, 1, 1, 1],  # s9\n",
    "                    [1, np.nan, np.nan, np.nan, 1, 1, np.nan, np.nan],  # s10\n",
    "                    [1, np.nan, 1, np.nan, np.nan, 1, np.nan, 1],  # s11\n",
    "                    [1, np.nan, np.nan, np.nan, 1, np.nan, np.nan, np.nan],  # s12\n",
    "                    [1, 1, np.nan, np.nan, np.nan, 1, np.nan, np.nan],  # s13\n",
    "                    [np.nan, 1, np.nan, 1, 1, 1, np.nan, np.nan],  # s14\n",
    "                    # ※s15はゴールなので、方策はなし\n",
    "                    ])"
   ]
  },
  {
   "cell_type": "code",
   "execution_count": null,
   "metadata": {},
   "outputs": [],
   "source": [
    "# 方策パラメータthetaを行動方策piに変換する関数の定義\n",
    "\n",
    "\n",
    "def simple_convert_into_pi_from_theta(theta):\n",
    "    '''単純に割合を計算する'''\n",
    "\n",
    "    [m, n] = theta.shape  # thetaの行列サイズを取得\n",
    "    pi = np.zeros((m, n))\n",
    "    for i in range(0, m):\n",
    "        pi[i, :] = theta[i, :] / np.nansum(theta[i, :])  # 割合の計算\n",
    "\n",
    "    pi = np.nan_to_num(pi)  # nanを0に変換\n",
    "\n",
    "    return pi\n"
   ]
  },
  {
   "cell_type": "code",
   "execution_count": null,
   "metadata": {},
   "outputs": [],
   "source": [
    "# 初期の方策pi_0を求める\n",
    "pi_0 = simple_convert_into_pi_from_theta(theta_0)\n"
   ]
  },
  {
   "cell_type": "code",
   "execution_count": null,
   "metadata": {},
   "outputs": [],
   "source": [
    "# 初期の方策pi_0を表示\n",
    "pi_0"
   ]
  },
  {
   "cell_type": "code",
   "execution_count": null,
   "metadata": {},
   "outputs": [],
   "source": [
    "# 1step移動後の状態sを求める関数を定義\n",
    "\n",
    "\n",
    "def get_next_s(pi, s):\n",
    "    direction = [\"up\", \"right\", \"down\", \"left\",\"upper right\",\"upper left\",\"lower right\",\"lower left\"]\n",
    "\n",
    "    next_direction = np.random.choice(direction, p=pi[s, :])\n",
    "    # pi[s,:]の確率に従って、directionが選択される\n",
    "\n",
    "    if next_direction == \"up\":\n",
    "        s_next = s - 4  # 上に移動するときは状態の数字が3小さくなる\n",
    "    elif next_direction == \"right\":\n",
    "        s_next = s + 1  # 右に移動するときは状態の数字が1大きくなる\n",
    "    elif next_direction == \"down\":\n",
    "        s_next = s + 4  # 下に移動するときは状態の数字が3大きくなる\n",
    "    elif next_direction == \"left\":\n",
    "        s_next = s - 1  # 左に移動するときは状態の数字が1小さくなる\n",
    "    elif next_direction == \"upper right\":\n",
    "        s_next = s - 3  # 右上に移動するときは状態の数字が2小さくなる\n",
    "    elif next_direction == \"upper left\":\n",
    "        s_next = s - 5  # 左上に移動するときは状態の数字が4小さくなる\n",
    "    elif next_direction == \"lower right\":\n",
    "        s_next = s + 5  # 右下に移動するときは状態の数字が4大きくなる\n",
    "    elif next_direction == \"lower left\":\n",
    "        s_next = s + 3  # 左下に移動するときは状態の数字が2大きくなる\n",
    "    return s_next\n",
    "\n"
   ]
  },
  {
   "cell_type": "code",
   "execution_count": null,
   "metadata": {},
   "outputs": [],
   "source": [
    "# 迷路内をエージェントがゴールするまで移動させる関数の定義\n",
    "\n",
    "\n",
    "def goal_maze(pi):\n",
    "    s = 0  # スタート地点\n",
    "    state_history = [0]  # エージェントの移動を記録するリスト\n",
    "\n",
    "    while (1):  # ゴールするまでループ\n",
    "        next_s = get_next_s(pi, s)\n",
    "        state_history.append(next_s)  # 記録リストに次の状態（エージェントの位置）を追加\n",
    "\n",
    "        if next_s == 15:  # ゴール地点なら終了\n",
    "            break\n",
    "        else:\n",
    "            s = next_s\n",
    "\n",
    "    return state_history\n"
   ]
  },
  {
   "cell_type": "code",
   "execution_count": null,
   "metadata": {
    "scrolled": true
   },
   "outputs": [],
   "source": [
    "# 迷路内をゴールを目指して、移動\n",
    "state_history = goal_maze(pi_0)\n"
   ]
  },
  {
   "cell_type": "code",
   "execution_count": null,
   "metadata": {},
   "outputs": [],
   "source": [
    "print(state_history)\n",
    "print(\"迷路を解くのにかかったステップ数は\" + str(len(state_history) - 1) + \"です\")\n"
   ]
  },
  {
   "cell_type": "code",
   "execution_count": null,
   "metadata": {},
   "outputs": [],
   "source": [
    "# エージェントの移動の様子を可視化します\n",
    "# 参考URL http://louistiao.me/posts/notebooks/embedding-matplotlib-animations-in-jupyter-notebooks/\n",
    "from matplotlib import animation\n",
    "from IPython.display import HTML\n",
    "\n",
    "\n",
    "def init():\n",
    "    '''背景画像の初期化'''\n",
    "    line.set_data([], [])\n",
    "    return (line,)\n",
    "\n",
    "\n",
    "def animate(i):\n",
    "    '''フレームごとの描画内容'''\n",
    "    state = state_history[i]  # 現在の場所を描く\n",
    "    x = (state % 4) + 0.5  # 状態のx座標は、3で割った余り+0.5\n",
    "    y = 3.5 - int(state / 4)  # y座標は3で割った商を2.5から引く\n",
    "    line.set_data(x, y)\n",
    "    return (line,)\n",
    "\n",
    "\n",
    "#　初期化関数とフレームごとの描画関数を用いて動画を作成する\n",
    "anim = animation.FuncAnimation(fig, animate, init_func=init, frames=len(\n",
    "    state_history), interval=200, repeat=False)\n",
    "\n",
    "HTML(anim.to_jshtml())\n"
   ]
  },
  {
   "cell_type": "code",
   "execution_count": null,
   "metadata": {},
   "outputs": [],
   "source": []
  },
  {
   "cell_type": "code",
   "execution_count": null,
   "metadata": {},
   "outputs": [],
   "source": []
  }
 ],
 "metadata": {
  "kernelspec": {
   "display_name": "Python 3",
   "language": "python",
   "name": "python3"
  },
  "language_info": {
   "codemirror_mode": {
    "name": "ipython",
    "version": 3
   },
   "file_extension": ".py",
   "mimetype": "text/x-python",
   "name": "python",
   "nbconvert_exporter": "python",
   "pygments_lexer": "ipython3",
   "version": "3.6.13"
  }
 },
 "nbformat": 4,
 "nbformat_minor": 2
}
